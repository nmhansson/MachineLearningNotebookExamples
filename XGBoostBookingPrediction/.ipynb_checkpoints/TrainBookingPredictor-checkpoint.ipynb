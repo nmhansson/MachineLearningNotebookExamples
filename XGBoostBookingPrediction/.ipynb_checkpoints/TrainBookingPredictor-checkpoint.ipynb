{
 "cells": [
  {
   "cell_type": "markdown",
   "metadata": {},
   "source": [
    "# Train Booking prediction predictor\n",
    "\n",
    "The Tweedie distribution [2] is a special case of exponential dispersion models\n",
    "and is often used as a distribution for generalized linear models. If data has a\n",
    "large amount of zeroes, and only positive values otherwise, it is a good place to\n",
    "start. Another option would be to use a Zero Inflated Poisson Regression Model\n",
    "[3], but we opt for a Tweedie model due to ease of implementation.\n",
    "Tweedie regression has been successfully applied on insurance claim data,\n",
    "which is a typical example of zero-inflated data [4].\n",
    "We propose to use gradient boosted trees to attempt a solution. Boosting\n",
    "is an ensemble learning method, where new models are added to the current\n",
    "model until there are no more improvements [1]. We choose to use the python\n",
    "package XGBoost ([5]) with tweedie regression option.\n",
    "\n",
    "[1] Maurice CK Tweedie. An index which distinguishes between some important\n",
    "exponential families. In Statistics: Applications and new directions: Proc.\n",
    "Indian statistical institute golden Jubilee International conference, volume\n",
    "579, pages 579{604, 1984.\n",
    "\n",
    "[2] Alexander Noll, Robert Salzmann, and Mario V Wuthrich. Case study:\n",
    "French motor third-party liability claims. Available at SSRN 3164764, 2020.\n",
    "\n",
    "[3] Jerome H. Friedman. Greedy function approximation: A gradient boosting\n",
    "machine. Annals of Statistics, 29:1189{1232, 2000.\n",
    "\n",
    "[4] Tianqi Chen and Carlos Guestrin. XGBoost: A scalable tree boosting sys-\n",
    "tem. In Proceedings of the 22nd ACM SIGKDD International Conference\n",
    "on Knowledge Discovery and Data Mining, KDD '16, pages 785{794, New\n",
    "York, NY, USA, 2016. ACM.\n"
   ]
  },
  {
   "cell_type": "markdown",
   "metadata": {},
   "source": [
    "### Train tweedie predicotor with RMSLE loss over 5 cross-validation folds\n",
    "\n",
    "We use Root Mean Squared Logarithmic Error (RMSLE) as a loss function\n",
    "since it is appropriate when we have zero-valued data; use of RMSE can result\n",
    "in numerical instabilities.\n"
   ]
  },
  {
   "cell_type": "code",
   "execution_count": 21,
   "metadata": {},
   "outputs": [],
   "source": [
    "plot_folder = '/home/mattias/Documents/project/BookingPrediction/plots/'\n",
    "dataset_pickle_folder = '/home/mattias/Documents/project/BookingPrediction/datasetPickles/'\n",
    "trained_predictor_folder = '/home/mattias/Documents/project/BookingPrediction/trainedPredictor/'"
   ]
  },
  {
   "cell_type": "code",
   "execution_count": 22,
   "metadata": {},
   "outputs": [],
   "source": [
    "from sklearn.model_selection import train_test_split\n",
    "import xgboost as xgb\n",
    "import pandas as pd\n",
    "import numpy as np\n",
    "import pickle"
   ]
  },
  {
   "cell_type": "markdown",
   "metadata": {},
   "source": [
    "### Load processed dataset that is the end result of our EDA in EDA_preprocessing_BookingPrediction.ipynb"
   ]
  },
  {
   "cell_type": "code",
   "execution_count": 23,
   "metadata": {},
   "outputs": [],
   "source": [
    "X_train = pd.read_pickle(dataset_pickle_folder + 'postEDA_train_predictors.pkl')\n",
    "X_test = pd.read_pickle(dataset_pickle_folder + 'postEDA_independ_test_predictors.pkl')\n",
    "y_train = pd.read_pickle(dataset_pickle_folder + 'train_response.pkl')\n",
    "y_test = pd.read_pickle(dataset_pickle_folder + 'independ_test_response.pkl')"
   ]
  },
  {
   "cell_type": "markdown",
   "metadata": {},
   "source": [
    "### Train tweedie predicotor with RMSLE loss over 5 cross-validation folds.  "
   ]
  },
  {
   "cell_type": "code",
   "execution_count": 24,
   "metadata": {},
   "outputs": [],
   "source": [
    "from sklearn.model_selection import train_test_split\n",
    "import xgboost as xgb"
   ]
  },
  {
   "cell_type": "code",
   "execution_count": 25,
   "metadata": {},
   "outputs": [],
   "source": [
    "data_dmatrix = xgb.DMatrix(data=X_train,label=y_train)"
   ]
  },
  {
   "cell_type": "code",
   "execution_count": 26,
   "metadata": {},
   "outputs": [],
   "source": [
    "num_boost_round = 100"
   ]
  },
  {
   "cell_type": "markdown",
   "metadata": {},
   "source": [
    "### Parameters\n",
    "We use a single setting for parameters, most importantly 100 estimators and\n",
    "max depth=11. These could be re\f",
    "ned at a later stage using a grid search with\n",
    "cross-validation.\n",
    "The variance power parameter for Tweedie is set at default (= 1:5), but\n",
    "this is a good candidate for cross-validation since it controls the shape of the\n",
    "underlying \f",
    "tted distribution."
   ]
  },
  {
   "cell_type": "code",
   "execution_count": 27,
   "metadata": {},
   "outputs": [],
   "source": [
    "params = {\"objective\":\"reg:tweedie\",'colsample_bytree': 0.3,'learning_rate': 0.1,\n",
    "                'max_depth': 11, 'alpha': 10}\n",
    "\n",
    "cv_results = xgb.cv(dtrain=data_dmatrix, params=params, nfold=5,\n",
    "                    num_boost_round=num_boost_round,early_stopping_rounds=10,metrics=\"rmsle\", \n",
    "                    as_pandas=True, seed=123)"
   ]
  },
  {
   "cell_type": "code",
   "execution_count": 42,
   "metadata": {},
   "outputs": [
    {
     "name": "stdout",
     "output_type": "stream",
     "text": [
      "The cross-validation test (over the 5 folds) is 0.26449639999999996\n"
     ]
    }
   ],
   "source": [
    "print('The cross-validation mean of RMSLE (over the 5 folds) is {}'.format(cv_results['test-rmsle-mean'].iloc[-1]))"
   ]
  },
  {
   "cell_type": "markdown",
   "metadata": {},
   "source": [
    "This value is not in itself very meaningful, since\n",
    "RMSLE does not have a very intuitive interpretation. It is however important if\n",
    "we want to compare different models. The important point here is that RMSLE\n",
    "will allow us to deal with zero-inflated data in training."
   ]
  },
  {
   "cell_type": "markdown",
   "metadata": {},
   "source": [
    "### Train predictor with RMSLE loss "
   ]
  },
  {
   "cell_type": "code",
   "execution_count": 43,
   "metadata": {},
   "outputs": [],
   "source": [
    "xg_reg = xgb.XGBRegressor(objective ='reg:tweedie', colsample_bytree = 0.3, learning_rate = 0.1,\n",
    "                max_depth = 11, alpha = 10, n_estimators = num_boost_round)"
   ]
  },
  {
   "cell_type": "code",
   "execution_count": 44,
   "metadata": {},
   "outputs": [
    {
     "data": {
      "text/plain": [
       "XGBRegressor(alpha=10, base_score=0.5, booster='gbtree', colsample_bylevel=1,\n",
       "             colsample_bynode=1, colsample_bytree=0.3, gamma=0, gpu_id=-1,\n",
       "             importance_type='gain', interaction_constraints='',\n",
       "             learning_rate=0.1, max_delta_step=0, max_depth=11,\n",
       "             min_child_weight=1, missing=nan, monotone_constraints='()',\n",
       "             n_estimators=100, n_jobs=0, num_parallel_tree=1,\n",
       "             objective='reg:tweedie', random_state=0, reg_alpha=10,\n",
       "             reg_lambda=1, scale_pos_weight=None, subsample=1,\n",
       "             tree_method='exact', validate_parameters=1, verbosity=None)"
      ]
     },
     "execution_count": 44,
     "metadata": {},
     "output_type": "execute_result"
    }
   ],
   "source": [
    "xg_reg.fit(X_train,y_train,eval_metric='rmsle')"
   ]
  },
  {
   "cell_type": "markdown",
   "metadata": {},
   "source": [
    "### Plot feature importance\n",
    "Top features are in our boosted tree model:\n",
    "1. num reviews times star\n",
    "2. number of rooms\n",
    "3. dayofmonth\n",
    "4. search day distance\n",
    "5. search nights\n",
    "\n",
    "It seems that our engineered features (num reviews times star and dayofmonth)\n",
    "are very important to our predictor.\n",
    "\n",
    "Interestingly device TABLET does come next in line albeit much lower. This\n",
    "illustrates that weak features can indeed be useful when building predictors with\n",
    "XGBOOST."
   ]
  },
  {
   "cell_type": "code",
   "execution_count": 45,
   "metadata": {},
   "outputs": [
    {
     "data": {
      "image/png": "[encoded data removed]",
      "text/plain": [
       "<Figure size 432x288 with 1 Axes>"
      ]
     },
     "metadata": {
      "needs_background": "light"
     },
     "output_type": "display_data"
    }
   ],
   "source": [
    "# plot feature importance\n",
    "import matplotlib.pyplot as plt \n",
    "from xgboost import plot_importance\n",
    "plot_importance(xg_reg,max_num_features= 30,show_values=False, height =0.5)\n",
    "plt.ylabel('Features',fontsize=8)\n",
    "plt.xlabel('F score',fontsize=8)\n",
    "plt.title('Feature importance',fontsize=5)\n",
    "plt.tick_params(labelsize=5)\n",
    "plt.tight_layout()\n",
    "plt.savefig(plot_folder + 'feature_importance.png', dpi=300)"
   ]
  },
  {
   "cell_type": "markdown",
   "metadata": {},
   "source": [
    "### Test predictor on independent test data set with evaluation measure RMSE and MAE.\n",
    "We use RMSE (Root mean square error) and MAE (Mean Absolute Errors)\n",
    "for evaluation metrics since these are more easily interpretable than RMSLE.\n",
    "When RMSE in normalized w.r.t range of data, it gives the prediction errors as\n",
    "a percentage of the range of data. Since absolute error is the absolute value of\n",
    "the difference between the predicted value and the actual value, MAE is easily\n",
    "interpretable.\n",
    "\n",
    "We test our trained predictor on our independent test set. The normalized\n",
    "RMSE is 0.02 which means the prediction errors are 2% of the range of the\n",
    "data. The mean absolute error is 0:14."
   ]
  },
  {
   "cell_type": "code",
   "execution_count": 46,
   "metadata": {},
   "outputs": [],
   "source": [
    "range_y_test = np.max(y_test)-np.min(y_test)"
   ]
  },
  {
   "cell_type": "code",
   "execution_count": 47,
   "metadata": {},
   "outputs": [],
   "source": [
    "y_pred = np.round(xg_reg.predict(X_test))"
   ]
  },
  {
   "cell_type": "code",
   "execution_count": 48,
   "metadata": {},
   "outputs": [],
   "source": [
    "from sklearn.metrics import mean_squared_error, mean_absolute_error\n",
    "from math import sqrt\n",
    "\n",
    "rmse_test = sqrt(mean_squared_error(y_test, y_pred))\n",
    "mae_test = mean_absolute_error(y_test, y_pred)\n",
    "\n",
    "norm_test_rmse_mean = rmse_test/range_y_test\n",
    "round_nrmse_test = round(float(norm_test_rmse_mean),2)"
   ]
  },
  {
   "cell_type": "code",
   "execution_count": 49,
   "metadata": {},
   "outputs": [
    {
     "name": "stdout",
     "output_type": "stream",
     "text": [
      "Using 100 estimators, the normalized mean RMSE is 0.02. Thus the prediction errors are 2.0 percent of the range of data.\n"
     ]
    }
   ],
   "source": [
    "print('Using {} estimators, the normalized mean RMSE is {}. Thus the prediction errors are {} percent of the range of data.'.format(num_boost_round,round_nrmse_test,100*round_nrmse_test))"
   ]
  },
  {
   "cell_type": "code",
   "execution_count": 50,
   "metadata": {},
   "outputs": [
    {
     "name": "stdout",
     "output_type": "stream",
     "text": [
      "Using 100 estimators, the mean absolute error is 0.1354074986798099.\n"
     ]
    }
   ],
   "source": [
    "print('Using {} estimators, the mean absolute error is {}.'.format(num_boost_round,mae_test))"
   ]
  },
  {
   "cell_type": "markdown",
   "metadata": {},
   "source": [
    "## Save xgboost model to file"
   ]
  },
  {
   "cell_type": "code",
   "execution_count": 51,
   "metadata": {},
   "outputs": [],
   "source": [
    "pickle.dump(xg_reg, open(trained_predictor_folder + \"xgb_booking_pred.pickle.dat\", \"wb\"))"
   ]
  },
  {
   "cell_type": "code",
   "execution_count": null,
   "metadata": {},
   "outputs": [],
   "source": []
  }
 ],
 "metadata": {
  "kernelspec": {
   "display_name": "Python 3",
   "language": "python",
   "name": "python3"
  },
  "language_info": {
   "codemirror_mode": {
    "name": "ipython",
    "version": 3
   },
   "file_extension": ".py",
   "mimetype": "text/x-python",
   "name": "python",
   "nbconvert_exporter": "python",
   "pygments_lexer": "ipython3",
   "version": "3.6.10"
  }
 },
 "nbformat": 4,
 "nbformat_minor": 4
}
